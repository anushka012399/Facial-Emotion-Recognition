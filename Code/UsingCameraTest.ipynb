{
 "cells": [
  {
   "cell_type": "code",
   "execution_count": 1,
   "metadata": {},
   "outputs": [],
   "source": [
    "import cv2\n",
    "import numpy as np\n",
    "from time import sleep\n",
    "from keras.models import load_model"
   ]
  },
  {
   "cell_type": "code",
   "execution_count": 2,
   "metadata": {},
   "outputs": [],
   "source": [
    "train_model =  \"ResNet\""
   ]
  },
  {
   "cell_type": "code",
   "execution_count": 3,
   "metadata": {},
   "outputs": [],
   "source": [
    "if train_model == \"Inception\":\n",
    "    img_width, img_height = 139, 139\n",
    "elif train_model == \"ResNet\":\n",
    "    img_width, img_height = 197, 197\n"
   ]
  },
  {
   "cell_type": "code",
   "execution_count": 4,
   "metadata": {},
   "outputs": [],
   "source": [
    "emotions = ['Anger', 'Disgust', 'Fear', 'Happiness', 'Sadness', 'Surprise', 'Neutral']\n"
   ]
  },
  {
   "cell_type": "code",
   "execution_count": null,
   "metadata": {},
   "outputs": [],
   "source": []
  },
  {
   "cell_type": "code",
   "execution_count": 5,
   "metadata": {},
   "outputs": [],
   "source": [
    "import imutils\n",
    "import sys\n",
    "from keras.preprocessing.image import img_to_array"
   ]
  },
  {
   "cell_type": "code",
   "execution_count": 6,
   "metadata": {},
   "outputs": [],
   "source": [
    "detection_model_path ='/Users/anushkapatil/Desktop/thesis/trainedmodels/haarcascade_frontalface_default.xml' \n",
    "emotion_recognition_model_path = \"/Users/anushkapatil/Desktop/thesis/trainedmodels/ResNet-50.h5\"  #Inception-v3.h5"
   ]
  },
  {
   "cell_type": "code",
   "execution_count": 7,
   "metadata": {},
   "outputs": [],
   "source": [
    "model = load_model(emotion_recognition_model_path)"
   ]
  },
  {
   "cell_type": "code",
   "execution_count": 8,
   "metadata": {},
   "outputs": [],
   "source": [
    "faceCascade = cv2.CascadeClassifier(detection_model_path)"
   ]
  },
  {
   "cell_type": "code",
   "execution_count": 9,
   "metadata": {},
   "outputs": [],
   "source": [
    "video_capture = cv2.VideoCapture(0)"
   ]
  },
  {
   "cell_type": "code",
   "execution_count": 10,
   "metadata": {},
   "outputs": [],
   "source": [
    "def preprocess_input(image):\n",
    "    image = cv2.resize(image, (img_width, img_height))  # Resizing images for the trained model\n",
    "    ret = np.empty((img_height, img_width, 3)) \n",
    "    ret[:, :, 0] = image\n",
    "    ret[:, :, 1] = image\n",
    "    ret[:, :, 2] = image\n",
    "    x = np.expand_dims(ret, axis = 0)   # (1, XXX, XXX, 3)\n",
    "\n",
    "    if train_model == \"Inception\":\n",
    "        x /= 127.5\n",
    "        x -= 1.\n",
    "        return x\n",
    "    elif train_model == \"ResNet\":\n",
    "        x -= 128.8006   \n",
    "        x /= 64.6497    \n",
    "\n",
    "    return x"
   ]
  },
  {
   "cell_type": "code",
   "execution_count": 11,
   "metadata": {},
   "outputs": [],
   "source": [
    "def predict(emotion):\n",
    "    prediction = model.predict(emotion)\n",
    "    \n",
    "    return prediction"
   ]
  },
  {
   "cell_type": "code",
   "execution_count": null,
   "metadata": {},
   "outputs": [
    {
     "name": "stdout",
     "output_type": "stream",
     "text": [
      "0.02154794\n",
      "0.06272125\n",
      "0.044538055\n",
      "0.018970765\n",
      "0.0015243562\n",
      "0.026102927\n",
      "0.06852939\n",
      "0.02430162\n",
      "0.020977566\n",
      "0.0062400713\n",
      "0.0005038809\n",
      "0.00043702713\n",
      "0.0013694193\n",
      "0.0012967779\n",
      "0.0029391267\n",
      "0.021113832\n",
      "0.010111339\n",
      "0.016354581\n",
      "0.017262107\n",
      "0.03796959\n",
      "0.035120208\n",
      "0.039519038\n",
      "0.043415997\n",
      "0.046657983\n",
      "0.24321353\n",
      "0.1402495\n",
      "0.14996202\n",
      "0.11613892\n",
      "0.07352375\n",
      "0.07202269\n",
      "0.12323577\n",
      "0.009749224\n",
      "0.020429546\n",
      "0.04361718\n",
      "0.052734055\n",
      "0.0106397\n",
      "0.012297605\n",
      "0.009457064\n",
      "0.011368889\n",
      "0.015050193\n",
      "0.017906277\n",
      "0.014254402\n"
     ]
    }
   ],
   "source": [
    "while True:\n",
    "    if not video_capture.isOpened():\n",
    "        sleep(5)\n",
    "    else:\n",
    "        sleep(0.5)\n",
    "        ret, frame = video_capture.read()\n",
    "        gray_frame = cv2.cvtColor(frame, cv2.COLOR_BGR2GRAY)\n",
    "        \n",
    "        \n",
    "        faces = faceCascade.detectMultiScale(gray_frame,scaleFactor= 1.1,minNeighbors= 5,minSize= (30, 30))\n",
    "\n",
    "        prediction = None\n",
    "        x, y = None, None\n",
    "\n",
    "        for (x, y, w, h) in faces:\n",
    "            ROI_gray = gray_frame[y:y+h, x:x+w] \n",
    "            cv2.rectangle(frame, (x, y), (x+w, y+h), (0, 0, 255), 2)\n",
    "\n",
    "            emotion = preprocess_input(ROI_gray)\n",
    "            prediction = predict(emotion)\n",
    "            print(prediction[0][0])\n",
    "            top_1_prediction = emotions[np.argmax(prediction)]\n",
    "            cv2.putText(frame, top_1_prediction, (x, y+(h+50)), cv2.FONT_HERSHEY_SIMPLEX, 2, (255, 255, 255), 4, cv2.LINE_AA)\n",
    "\n",
    "       \n",
    "        frame = cv2.resize(frame, (800, 500))\n",
    "        cv2.imshow('Video', frame)\n",
    "\n",
    "        if cv2.waitKey(1) & 0xFF == ord('q'):\n",
    "            break\n",
    "\n",
    "video_capture.release()\n",
    "cv2.destroyAllWindows()"
   ]
  },
  {
   "cell_type": "code",
   "execution_count": null,
   "metadata": {},
   "outputs": [],
   "source": []
  }
 ],
 "metadata": {
  "kernelspec": {
   "display_name": "Python 3",
   "language": "python",
   "name": "python3"
  },
  "language_info": {
   "codemirror_mode": {
    "name": "ipython",
    "version": 3
   },
   "file_extension": ".py",
   "mimetype": "text/x-python",
   "name": "python",
   "nbconvert_exporter": "python",
   "pygments_lexer": "ipython3",
   "version": "3.8.3"
  }
 },
 "nbformat": 4,
 "nbformat_minor": 4
}
